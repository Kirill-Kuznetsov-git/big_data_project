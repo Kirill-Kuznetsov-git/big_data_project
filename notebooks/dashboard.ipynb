{
 "cells": [
  {
   "attachments": {},
   "cell_type": "markdown",
   "metadata": {},
   "source": [
    "For the dashboard.\n",
    "\n",
    "- It is enough to create a single static dashboard via Streamlit.\n",
    "- You have to display the data characteristics such as number of data instances, number of features, feature names,…\n",
    "- You need to display all the results of the analytics.\n",
    "- Check the grading criteria to see the requirements needed to be fulfilled.\n",
    "- The dashboard does not have to be interactive.\n",
    "\n",
    "\n",
    "[20 points] for the dashboard.\n",
    "\n",
    "- [2 points] for showing the data characteristics.\n",
    "- [2 points] for each insight with provided description.\n",
    "- [3 point] for showing the performance of models.\n",
    "- [3 points] for prediction results.\n",
    "- [2 points] for visual quality of dashboard.\n",
    "\n"
   ]
  },
  {
   "cell_type": "code",
   "execution_count": null,
   "metadata": {},
   "outputs": [],
   "source": []
  }
 ],
 "metadata": {
  "language_info": {
   "name": "python"
  },
  "orig_nbformat": 4
 },
 "nbformat": 4,
 "nbformat_minor": 2
}
